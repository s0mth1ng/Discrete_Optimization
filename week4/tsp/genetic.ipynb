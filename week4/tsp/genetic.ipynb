{
 "cells": [
  {
   "cell_type": "code",
   "execution_count": 89,
   "id": "heard-clark",
   "metadata": {},
   "outputs": [],
   "source": [
    "import numpy as np\n",
    "import matplotlib.pyplot as plt\n",
    "from scipy.special import softmax"
   ]
  },
  {
   "cell_type": "code",
   "execution_count": 21,
   "id": "competent-forth",
   "metadata": {},
   "outputs": [],
   "source": [
    "class Point:\n",
    "    def __init__(self, x, y):\n",
    "        self._x = x\n",
    "        self._y = y\n",
    "    \n",
    "    def distance(self, to):\n",
    "        dx = abs(self._x - to._x)\n",
    "        dy = abs(self._y - to._y)\n",
    "        distance = np.sqrt(dx ** 2 + dy ** 2)\n",
    "        return distance\n",
    "    \n",
    "    def __repr__(self):\n",
    "        return f'({self._x}, {self._y})'"
   ]
  },
  {
   "cell_type": "code",
   "execution_count": 247,
   "id": "following-workstation",
   "metadata": {},
   "outputs": [],
   "source": [
    "class TSP:\n",
    "    def __init__(self, points):\n",
    "        self._points = points\n",
    "        self._num_of_points = len(points)\n",
    "        self._best_distances = []\n",
    "        self._best_solution = None\n",
    "       \n",
    "    def plot_progress(self):\n",
    "        plt.plot(self._best_distances)\n",
    "        plt.ylabel('Distance')\n",
    "        plt.xlabel('Generation')\n",
    "        plt.show()\n",
    "        \n",
    "    def find_solution(self, generations=100, psize=50, elite_part=0.6):\n",
    "        population = self.__get_initial_population(psize)\n",
    "        for _ in range(generations):\n",
    "            print(f'Done: {100 * (_ + 1) / generations:.2f}%', end='\\r')\n",
    "            population = self.__get_next_generation(population, elite_part)\n",
    "        print()\n",
    "        return self._best_solution\n",
    "    \n",
    "    def __mutate(self, route, prob=0.05):\n",
    "        for p1 in range(self._num_of_points - 1):\n",
    "            p2 = np.random.randint(p1 + 1, self._num_of_points)\n",
    "            if np.random.random() < prob:\n",
    "                route[p1], route[p2] = route[p2], route[p1]\n",
    "        return route\n",
    "    \n",
    "    def __get_mutated_population(self, population):\n",
    "        mutated_population = []\n",
    "        for route in population:\n",
    "            mutated_population.append(self.__mutate(route))\n",
    "        return mutated_population\n",
    "    \n",
    "    def __crossover(self, parent1, parent2):\n",
    "        left = np.random.randint(0, self._num_of_points)\n",
    "        right = np.random.randint(left + 1, self._num_of_points + 1)\n",
    "        child = list(parent1[left:right])\n",
    "        used = set(child)\n",
    "        child += [pt for pt in parent2 if pt not in used]\n",
    "        return child\n",
    "    \n",
    "    def __get_crossover_population(self, population, ranks, elite_size):\n",
    "        inds = [r[0] for r in ranks]\n",
    "        probs = softmax(np.array([-r[1] / 100000 for r in ranks]))\n",
    "        pool = inds[:elite_size]\n",
    "        pool += list(np.random.choice(inds, len(population) - elite_size, p=probs))\n",
    "        crossover_population = []\n",
    "        for i in range(len(population)):\n",
    "            crossover_population.append(self.__crossover(population[pool[i - 1]], population[pool[i]]))\n",
    "        return crossover_population\n",
    "    \n",
    "    def __get_next_generation(self, population, elite_part):\n",
    "        ranks = self.__get_ranks_of_population(population)\n",
    "        self._best_distances.append(ranks[0][1])\n",
    "        if not self._best_solution or ranks[0][1] < self._best_solution['distance']:\n",
    "            self._best_solution = {'route': population[ranks[0][0]], 'distance': ranks[0][1]}\n",
    "        population = self.__get_crossover_population(population, ranks, elite_size=int(elite_part * len(population)))\n",
    "        population = self.__get_mutated_population(population)\n",
    "        return population\n",
    "        \n",
    "    def __compute_route_distance(self, route):\n",
    "        if len(route) != self._num_of_points:\n",
    "            raise ValueError(\"Route length doesn't match with number of points.\")\n",
    "        distance = 0\n",
    "        for i in range(self._num_of_points):\n",
    "            distance += self._points[route[i]].distance(self._points[route[i - 1]])\n",
    "        return distance\n",
    "    \n",
    "    def __generate_route(self):\n",
    "        return np.random.permutation(self._num_of_points)\n",
    "\n",
    "    def __get_initial_population(self, psize):\n",
    "        population = []\n",
    "        for _ in range(psize):\n",
    "            population.append(self.__generate_route())\n",
    "        return population\n",
    "    \n",
    "    def __get_ranks_of_population(self, population):\n",
    "        ranks = []\n",
    "        for ind, route in enumerate(population):\n",
    "            rank = (ind, self.__compute_route_distance(route))\n",
    "            ranks.append(rank)\n",
    "        return sorted(ranks, key=lambda rank: rank[1])"
   ]
  },
  {
   "cell_type": "code",
   "execution_count": 253,
   "id": "internal-gilbert",
   "metadata": {},
   "outputs": [],
   "source": [
    "TEST_FILE_NAME = './data/tsp_100_3'"
   ]
  },
  {
   "cell_type": "code",
   "execution_count": 254,
   "id": "brave-transfer",
   "metadata": {},
   "outputs": [],
   "source": [
    "with open(TEST_FILE_NAME, 'r') as f:\n",
    "    data = f.readlines()"
   ]
  },
  {
   "cell_type": "code",
   "execution_count": 255,
   "id": "mobile-cancer",
   "metadata": {},
   "outputs": [],
   "source": [
    "n_points, *points = data\n",
    "n_points = int(n_points)\n",
    "points = [Point(*map(float, p.split())) for p in points]"
   ]
  },
  {
   "cell_type": "code",
   "execution_count": 256,
   "id": "statistical-mistake",
   "metadata": {},
   "outputs": [
    {
     "name": "stdout",
     "output_type": "stream",
     "text": [
      "Done: 100.00%\n"
     ]
    },
    {
     "data": {
      "image/png": "[encoded data removed]",
      "text/plain": [
       "<Figure size 432x288 with 1 Axes>"
      ]
     },
     "metadata": {
      "needs_background": "light"
     },
     "output_type": "display_data"
    },
    {
     "name": "stdout",
     "output_type": "stream",
     "text": [
      "124499.37442980058\n"
     ]
    }
   ],
   "source": [
    "solver = TSP(points)\n",
    "solution = solver.find_solution(generations=500, psize=100, elite_part=.2)\n",
    "solver.plot_progress()\n",
    "print(solution['distance'])"
   ]
  },
  {
   "cell_type": "code",
   "execution_count": 203,
   "id": "dried-converter",
   "metadata": {},
   "outputs": [],
   "source": [
    "with open('out.txt', 'w') as f:\n",
    "    f.write(' '.join(map(str, solution['route'])))"
   ]
  },
  {
   "cell_type": "code",
   "execution_count": null,
   "id": "convertible-belle",
   "metadata": {},
   "outputs": [],
   "source": []
  }
 ],
 "metadata": {
  "kernelspec": {
   "display_name": "Python 3",
   "language": "python",
   "name": "python3"
  },
  "language_info": {
   "codemirror_mode": {
    "name": "ipython",
    "version": 3
   },
   "file_extension": ".py",
   "mimetype": "text/x-python",
   "name": "python",
   "nbconvert_exporter": "python",
   "pygments_lexer": "ipython3",
   "version": "3.8.5"
  }
 },
 "nbformat": 4,
 "nbformat_minor": 5
}
