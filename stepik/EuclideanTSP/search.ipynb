{
 "metadata": {
  "language_info": {
   "codemirror_mode": {
    "name": "ipython",
    "version": 3
   },
   "file_extension": ".py",
   "mimetype": "text/x-python",
   "name": "python",
   "nbconvert_exporter": "python",
   "pygments_lexer": "ipython3",
   "version": "3.8.5"
  },
  "orig_nbformat": 2,
  "kernelspec": {
   "name": "python3",
   "display_name": "Python 3.8.5 64-bit",
   "metadata": {
    "interpreter": {
     "hash": "31f2aee4e71d21fbe5cf8b01ff0e069b9275f58929596ceb00d14d90e3e16cd6"
    }
   }
  }
 },
 "nbformat": 4,
 "nbformat_minor": 2,
 "cells": [
  {
   "cell_type": "code",
   "execution_count": 2,
   "metadata": {},
   "outputs": [],
   "source": [
    "from collections import namedtuple\n",
    "import math\n",
    "import os\n",
    "import sys\n",
    "from subprocess import Popen, PIPE\n",
    "import numpy as np \n",
    "import matplotlib.pyplot as plt\n",
    "import pandas as pd"
   ]
  },
  {
   "cell_type": "code",
   "execution_count": 3,
   "metadata": {},
   "outputs": [],
   "source": [
    "def run_solution(init_temp, alpha):\n",
    "    bin_path = './main.out'\n",
    "    process = Popen([bin_path, 'tsp_51_1', str(init_temp), str(alpha)],\n",
    "                    stdout=PIPE, universal_newlines=True)\n",
    "    (stdout, stderr) = process.communicate()\n",
    "    return float(stdout.strip())"
   ]
  },
  {
   "cell_type": "code",
   "execution_count": 5,
   "metadata": {},
   "outputs": [],
   "source": [
    "temps = np.arange(50, 120, 10)\n",
    "alphas = np.linspace(0.7, 1, 20)"
   ]
  },
  {
   "cell_type": "code",
   "execution_count": 6,
   "metadata": {},
   "outputs": [],
   "source": [
    "values = []\n",
    "for t in temps:\n",
    "    for a in alphas:\n",
    "        values.append(run_solution(t, a))"
   ]
  },
  {
   "cell_type": "code",
   "execution_count": 7,
   "metadata": {},
   "outputs": [],
   "source": [
    "x = []\n",
    "y = []\n",
    "z = values[:] "
   ]
  },
  {
   "cell_type": "code",
   "execution_count": 8,
   "metadata": {},
   "outputs": [],
   "source": [
    "for t in temps:\n",
    "    for a in alphas:\n",
    "        x.append(t)\n",
    "        y.append(a)"
   ]
  },
  {
   "cell_type": "code",
   "execution_count": 9,
   "metadata": {},
   "outputs": [
    {
     "output_type": "execute_result",
     "data": {
      "text/plain": [
       "      temp     alpha    value\n",
       "0     50.0  0.700000  466.137\n",
       "1     50.0  0.715789  484.201\n",
       "2     50.0  0.731579  450.316\n",
       "3     50.0  0.747368  446.777\n",
       "4     50.0  0.763158  455.881\n",
       "..     ...       ...      ...\n",
       "135  110.0  0.936842  456.136\n",
       "136  110.0  0.952632  467.041\n",
       "137  110.0  0.968421  459.386\n",
       "138  110.0  0.984211  466.233\n",
       "139  110.0  1.000000  581.448\n",
       "\n",
       "[140 rows x 3 columns]"
      ],
      "text/html": "<div>\n<style scoped>\n    .dataframe tbody tr th:only-of-type {\n        vertical-align: middle;\n    }\n\n    .dataframe tbody tr th {\n        vertical-align: top;\n    }\n\n    .dataframe thead th {\n        text-align: right;\n    }\n</style>\n<table border=\"1\" class=\"dataframe\">\n  <thead>\n    <tr style=\"text-align: right;\">\n      <th></th>\n      <th>temp</th>\n      <th>alpha</th>\n      <th>value</th>\n    </tr>\n  </thead>\n  <tbody>\n    <tr>\n      <th>0</th>\n      <td>50.0</td>\n      <td>0.700000</td>\n      <td>466.137</td>\n    </tr>\n    <tr>\n      <th>1</th>\n      <td>50.0</td>\n      <td>0.715789</td>\n      <td>484.201</td>\n    </tr>\n    <tr>\n      <th>2</th>\n      <td>50.0</td>\n      <td>0.731579</td>\n      <td>450.316</td>\n    </tr>\n    <tr>\n      <th>3</th>\n      <td>50.0</td>\n      <td>0.747368</td>\n      <td>446.777</td>\n    </tr>\n    <tr>\n      <th>4</th>\n      <td>50.0</td>\n      <td>0.763158</td>\n      <td>455.881</td>\n    </tr>\n    <tr>\n      <th>...</th>\n      <td>...</td>\n      <td>...</td>\n      <td>...</td>\n    </tr>\n    <tr>\n      <th>135</th>\n      <td>110.0</td>\n      <td>0.936842</td>\n      <td>456.136</td>\n    </tr>\n    <tr>\n      <th>136</th>\n      <td>110.0</td>\n      <td>0.952632</td>\n      <td>467.041</td>\n    </tr>\n    <tr>\n      <th>137</th>\n      <td>110.0</td>\n      <td>0.968421</td>\n      <td>459.386</td>\n    </tr>\n    <tr>\n      <th>138</th>\n      <td>110.0</td>\n      <td>0.984211</td>\n      <td>466.233</td>\n    </tr>\n    <tr>\n      <th>139</th>\n      <td>110.0</td>\n      <td>1.000000</td>\n      <td>581.448</td>\n    </tr>\n  </tbody>\n</table>\n<p>140 rows × 3 columns</p>\n</div>"
     },
     "metadata": {},
     "execution_count": 9
    }
   ],
   "source": [
    "df = pd.DataFrame(np.array([x, y, z]).T, columns=['temp', 'alpha', 'value'])\n",
    "df"
   ]
  },
  {
   "cell_type": "code",
   "execution_count": 10,
   "metadata": {},
   "outputs": [
    {
     "output_type": "execute_result",
     "data": {
      "text/plain": [
       "    temp     alpha    value\n",
       "16  50.0  0.952632  441.065"
      ],
      "text/html": "<div>\n<style scoped>\n    .dataframe tbody tr th:only-of-type {\n        vertical-align: middle;\n    }\n\n    .dataframe tbody tr th {\n        vertical-align: top;\n    }\n\n    .dataframe thead th {\n        text-align: right;\n    }\n</style>\n<table border=\"1\" class=\"dataframe\">\n  <thead>\n    <tr style=\"text-align: right;\">\n      <th></th>\n      <th>temp</th>\n      <th>alpha</th>\n      <th>value</th>\n    </tr>\n  </thead>\n  <tbody>\n    <tr>\n      <th>16</th>\n      <td>50.0</td>\n      <td>0.952632</td>\n      <td>441.065</td>\n    </tr>\n  </tbody>\n</table>\n</div>"
     },
     "metadata": {},
     "execution_count": 10
    }
   ],
   "source": [
    "df[df.value == df.value.min()]"
   ]
  },
  {
   "cell_type": "code",
   "execution_count": null,
   "metadata": {},
   "outputs": [],
   "source": []
  }
 ]
}